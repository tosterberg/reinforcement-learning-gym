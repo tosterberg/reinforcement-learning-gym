{
 "cells": [
  {
   "cell_type": "markdown",
   "source": [
    "## Introduction\n",
    "Words"
   ],
   "metadata": {
    "collapsed": false
   }
  },
  {
   "cell_type": "markdown",
   "source": [
    "## Experiment\n",
    "Words"
   ],
   "metadata": {
    "collapsed": false
   }
  },
  {
   "cell_type": "markdown",
   "source": [
    "## Conclusion\n",
    "Words"
   ],
   "metadata": {
    "collapsed": false
   }
  },
  {
   "cell_type": "markdown",
   "source": [
    "## References\n",
    "Words"
   ],
   "metadata": {
    "collapsed": false
   }
  },
  {
   "cell_type": "markdown",
   "source": [
    "## Appendix\n"
   ],
   "metadata": {
    "collapsed": false
   }
  },
  {
   "cell_type": "code",
   "execution_count": 9,
   "outputs": [],
   "source": [
    "from reinforce.utils.rlgridworld.standard_grid import create_standard_grid, create_negative_grid\n",
    "from reinforce.utils.rlgridworld.algorithms import value_iteration, policy_iteration, iterative_policy_evaluation, compute_policy_from_values"
   ],
   "metadata": {
    "collapsed": false
   }
  },
  {
   "cell_type": "code",
   "execution_count": 10,
   "outputs": [],
   "source": [
    "gw = create_standard_grid()"
   ],
   "metadata": {
    "collapsed": false
   }
  },
  {
   "cell_type": "code",
   "execution_count": 11,
   "outputs": [],
   "source": [
    "policy = {\n",
    "    (0,0):'right', (0,1):'right',(0,2):'right',(0,3):'up',\n",
    "    (1,0):'up', (1,1):'', (1,2):'right', (1,3):'',\n",
    "    (2,0):'right', (2,1):'right', (2,2):'right', (2,3):''\n",
    "    }"
   ],
   "metadata": {
    "collapsed": false
   }
  },
  {
   "cell_type": "code",
   "execution_count": 12,
   "outputs": [],
   "source": [
    "# from page 80 of Sutton and Barto, RL, 2nd. Ed.\n",
    "def policy_iteration(gw, policy, gamma=0.9, epsilon=0.001):\n",
    "    while True:\n",
    "        # perform iterative policy evaluation to update values\n",
    "        iterative_policy_evaluation(gw, policy, gamma, epsilon)\n",
    "        # update policy from new values\n",
    "        new_policy = compute_policy_from_values(gw, gamma)\n",
    "        # see if policy has changed\n",
    "        for action in policy:\n",
    "            if policy[action] == new_policy[action]:\n",
    "                policy_stable = True\n",
    "            else:\n",
    "                policy_stable = False\n",
    "                break\n",
    "        # update policy\n",
    "        policy = new_policy\n",
    "        # repeat until policy does not change\n",
    "        if policy_stable == True:\n",
    "            break"
   ],
   "metadata": {
    "collapsed": false
   }
  },
  {
   "cell_type": "code",
   "execution_count": 13,
   "outputs": [
    {
     "name": "stdout",
     "output_type": "stream",
     "text": [
      "\n",
      "Initial Policy\n",
      "-------------------------------------\n",
      "|  Right |  Right |  Right |        |\n",
      "-------------------------------------\n",
      "|     Up |        |  Right |        |\n",
      "-------------------------------------\n",
      "|  Right |  Right |  Right |     Up |\n",
      "-------------------------------------\n",
      "\n",
      "Initial Policy Values\n",
      "-------------------------------------\n",
      "|   0.81 |   0.90 |   1.00 |   0.00 |\n",
      "-------------------------------------\n",
      "|   0.73 |   0.00 |  -1.00 |   0.00 |\n",
      "-------------------------------------\n",
      "|  -0.73 |  -0.81 |  -0.90 |  -1.00 |\n",
      "-------------------------------------\n",
      "\n",
      "New Policy\n",
      "-------------------------------------\n",
      "|  Right |  Right |  Right |        |\n",
      "-------------------------------------\n",
      "|     Up |        |     Up |        |\n",
      "-------------------------------------\n",
      "|  Right |  Right |     Up |   Left |\n",
      "-------------------------------------\n",
      "\n",
      "New Policy Values\n",
      "-------------------------------------\n",
      "|   0.81 |   0.90 |   1.00 |   0.00 |\n",
      "-------------------------------------\n",
      "|   0.73 |   0.00 |   0.90 |   0.00 |\n",
      "-------------------------------------\n",
      "|   0.66 |   0.73 |   0.81 |   0.73 |\n",
      "-------------------------------------\n",
      "\n"
     ]
    }
   ],
   "source": [
    "print(\"\")\n",
    "print(\"Initial Policy\")\n",
    "gw.print_policy(policy)\n",
    "print(\"\")\n",
    "\n",
    "# note: this execution of iterative policy evaluation is not part\n",
    "# of the policy iteration algorithm.  It is for the purpose of\n",
    "# displaying the values associated with the input policy\n",
    "\n",
    "iterative_policy_evaluation(gw, policy)\n",
    "print(\"Initial Policy Values\")\n",
    "gw.print_values()\n",
    "\n",
    "# run policy iteration algorithm\n",
    "policy_iteration(gw, policy)\n",
    "# compute policy from optimal values\n",
    "new_policy = compute_policy_from_values(gw)\n",
    "\n",
    "# print new policy and values\n",
    "print(\"\")\n",
    "print(\"New Policy\")\n",
    "gw.print_policy(new_policy)\n",
    "print(\"\")\n",
    "print(\"New Policy Values\")\n",
    "gw.print_values()\n",
    "print(\"\")"
   ],
   "metadata": {
    "collapsed": false
   }
  }
 ],
 "metadata": {
  "kernelspec": {
   "display_name": "Python 3",
   "language": "python",
   "name": "python3"
  },
  "language_info": {
   "codemirror_mode": {
    "name": "ipython",
    "version": 2
   },
   "file_extension": ".py",
   "mimetype": "text/x-python",
   "name": "python",
   "nbconvert_exporter": "python",
   "pygments_lexer": "ipython2",
   "version": "2.7.6"
  }
 },
 "nbformat": 4,
 "nbformat_minor": 0
}
