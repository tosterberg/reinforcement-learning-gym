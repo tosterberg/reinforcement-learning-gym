{
 "cells": [
  {
   "cell_type": "markdown",
   "source": [
    "## Introduction\n",
    "Words"
   ],
   "metadata": {
    "collapsed": false
   }
  },
  {
   "cell_type": "markdown",
   "source": [
    "## Experiment\n",
    "Words"
   ],
   "metadata": {
    "collapsed": false
   }
  },
  {
   "cell_type": "markdown",
   "source": [
    "## Conclusion\n",
    "Words"
   ],
   "metadata": {
    "collapsed": false
   }
  },
  {
   "cell_type": "markdown",
   "source": [
    "## References\n",
    "Words"
   ],
   "metadata": {
    "collapsed": false
   }
  },
  {
   "cell_type": "markdown",
   "source": [
    "## Appendix\n"
   ],
   "metadata": {
    "collapsed": false
   }
  },
  {
   "cell_type": "code",
   "execution_count": 14,
   "outputs": [],
   "source": [
    "from reinforce.utils.rlgridworld.standard_grid import create_standard_grid, create_negative_grid\n",
    "from reinforce.utils.rlgridworld.algorithms import value_iteration, policy_iteration, iterative_policy_evaluation, compute_policy_from_values"
   ],
   "metadata": {
    "collapsed": false
   }
  },
  {
   "cell_type": "markdown",
   "source": [
    "### Value Iteration"
   ],
   "metadata": {
    "collapsed": false
   }
  },
  {
   "cell_type": "code",
   "execution_count": 15,
   "outputs": [],
   "source": [
    "# from page 83 of Sutton and Barto, RL 2nd. Ed.\n",
    "def value_iteration(gw, gamma=0.9, epsilon=0.001):\n",
    "    count = 0\n",
    "    while True:\n",
    "        count += 1\n",
    "        biggest_change_in_value = 0\n",
    "        for node in gw:\n",
    "            state = node.state\n",
    "            if not gw.is_terminal(state) and not gw.is_barrier(state):\n",
    "                old_value = gw.get_value(state)\n",
    "                new_value = float('-inf')\n",
    "                # valid decisions and rewards at current state\n",
    "                dr = gw.valid_decisions_and_rewards(state)\n",
    "                for action, reward in dr.items():\n",
    "                    reward = gw.get_reward_for_action(state, action)\n",
    "                    value_at_dest = gw.get_value_at_destination(state, action)\n",
    "                    value = reward + gamma*value_at_dest\n",
    "                    if value > new_value:\n",
    "                        new_value = value\n",
    "                    gw.set_value(state, new_value)\n",
    "                biggest_change_in_value = max(biggest_change_in_value,\n",
    "                                                  abs(new_value - old_value))\n",
    "        if biggest_change_in_value < epsilon:\n",
    "            break"
   ],
   "metadata": {
    "collapsed": false
   }
  },
  {
   "cell_type": "code",
   "execution_count": 16,
   "outputs": [
    {
     "name": "stdout",
     "output_type": "stream",
     "text": [
      "\n",
      "Initial Values\n",
      "-------------------------------------\n",
      "|   0.00 |   0.00 |   0.00 |   0.00 |\n",
      "-------------------------------------\n",
      "|   0.00 |   0.00 |   0.00 |   0.00 |\n",
      "-------------------------------------\n",
      "|   0.00 |   0.00 |   0.00 |   0.00 |\n",
      "-------------------------------------\n",
      "\n",
      "Values after Value Iteration\n",
      "-------------------------------------\n",
      "|   0.81 |   0.90 |   1.00 |   0.00 |\n",
      "-------------------------------------\n",
      "|   0.73 |   0.00 |   0.90 |   0.00 |\n",
      "-------------------------------------\n",
      "|   0.66 |   0.73 |   0.81 |   0.73 |\n",
      "-------------------------------------\n",
      "\n",
      "New Policy\n",
      "-------------------------------------\n",
      "|  Right |  Right |  Right |        |\n",
      "-------------------------------------\n",
      "|     Up |        |     Up |        |\n",
      "-------------------------------------\n",
      "|  Right |  Right |     Up |   Left |\n",
      "-------------------------------------\n"
     ]
    }
   ],
   "source": [
    "gw = create_standard_grid()\n",
    "\n",
    "print(\"\")\n",
    "print(\"Initial Values\")\n",
    "gw.print_values()\n",
    "\n",
    "# compute values\n",
    "value_iteration(gw)\n",
    "\n",
    "print(\"\")\n",
    "print(\"Values after Value Iteration\")\n",
    "gw.print_values()\n",
    "\n",
    "# compute policy from values\n",
    "policy = compute_policy_from_values(gw)\n",
    "\n",
    "print(\"\")\n",
    "print(\"New Policy\")\n",
    "gw.print_policy(policy)"
   ],
   "metadata": {
    "collapsed": false
   }
  },
  {
   "cell_type": "markdown",
   "source": [
    "### Policy Iteration"
   ],
   "metadata": {
    "collapsed": false
   }
  },
  {
   "cell_type": "code",
   "execution_count": 17,
   "outputs": [],
   "source": [
    "gw = create_standard_grid()"
   ],
   "metadata": {
    "collapsed": false
   }
  },
  {
   "cell_type": "code",
   "execution_count": 18,
   "outputs": [],
   "source": [
    "policy = {\n",
    "    (0,0):'right', (0,1):'right',(0,2):'right',(0,3):'up',\n",
    "    (1,0):'up', (1,1):'', (1,2):'right', (1,3):'',\n",
    "    (2,0):'right', (2,1):'right', (2,2):'right', (2,3):''\n",
    "    }"
   ],
   "metadata": {
    "collapsed": false
   }
  },
  {
   "cell_type": "code",
   "execution_count": 19,
   "outputs": [],
   "source": [
    "# from page 80 of Sutton and Barto, RL, 2nd. Ed.\n",
    "def policy_iteration(gw, policy, gamma=0.9, epsilon=0.001):\n",
    "    while True:\n",
    "        # perform iterative policy evaluation to update values\n",
    "        iterative_policy_evaluation(gw, policy, gamma, epsilon)\n",
    "        # update policy from new values\n",
    "        new_policy = compute_policy_from_values(gw, gamma)\n",
    "        # see if policy has changed\n",
    "        for action in policy:\n",
    "            if policy[action] == new_policy[action]:\n",
    "                policy_stable = True\n",
    "            else:\n",
    "                policy_stable = False\n",
    "                break\n",
    "        # update policy\n",
    "        policy = new_policy\n",
    "        # repeat until policy does not change\n",
    "        if policy_stable == True:\n",
    "            break"
   ],
   "metadata": {
    "collapsed": false
   }
  },
  {
   "cell_type": "code",
   "execution_count": 20,
   "outputs": [
    {
     "name": "stdout",
     "output_type": "stream",
     "text": [
      "\n",
      "Initial Policy\n",
      "-------------------------------------\n",
      "|  Right |  Right |  Right |        |\n",
      "-------------------------------------\n",
      "|     Up |        |  Right |        |\n",
      "-------------------------------------\n",
      "|  Right |  Right |  Right |     Up |\n",
      "-------------------------------------\n",
      "\n",
      "Initial Policy Values\n",
      "-------------------------------------\n",
      "|   0.81 |   0.90 |   1.00 |   0.00 |\n",
      "-------------------------------------\n",
      "|   0.73 |   0.00 |  -1.00 |   0.00 |\n",
      "-------------------------------------\n",
      "|  -0.73 |  -0.81 |  -0.90 |  -1.00 |\n",
      "-------------------------------------\n",
      "\n",
      "New Policy\n",
      "-------------------------------------\n",
      "|  Right |  Right |  Right |        |\n",
      "-------------------------------------\n",
      "|     Up |        |     Up |        |\n",
      "-------------------------------------\n",
      "|  Right |  Right |     Up |   Left |\n",
      "-------------------------------------\n",
      "\n",
      "New Policy Values\n",
      "-------------------------------------\n",
      "|   0.81 |   0.90 |   1.00 |   0.00 |\n",
      "-------------------------------------\n",
      "|   0.73 |   0.00 |   0.90 |   0.00 |\n",
      "-------------------------------------\n",
      "|   0.66 |   0.73 |   0.81 |   0.73 |\n",
      "-------------------------------------\n",
      "\n"
     ]
    }
   ],
   "source": [
    "print(\"\")\n",
    "print(\"Initial Policy\")\n",
    "gw.print_policy(policy)\n",
    "print(\"\")\n",
    "\n",
    "# note: this execution of iterative policy evaluation is not part\n",
    "# of the policy iteration algorithm.  It is for the purpose of\n",
    "# displaying the values associated with the input policy\n",
    "\n",
    "iterative_policy_evaluation(gw, policy)\n",
    "print(\"Initial Policy Values\")\n",
    "gw.print_values()\n",
    "\n",
    "# run policy iteration algorithm\n",
    "policy_iteration(gw, policy)\n",
    "# compute policy from optimal values\n",
    "new_policy = compute_policy_from_values(gw)\n",
    "\n",
    "# print new policy and values\n",
    "print(\"\")\n",
    "print(\"New Policy\")\n",
    "gw.print_policy(new_policy)\n",
    "print(\"\")\n",
    "print(\"New Policy Values\")\n",
    "gw.print_values()\n",
    "print(\"\")"
   ],
   "metadata": {
    "collapsed": false
   }
  },
  {
   "cell_type": "markdown",
   "source": [
    "### Iterative Policy Evaluation"
   ],
   "metadata": {
    "collapsed": false
   }
  },
  {
   "cell_type": "code",
   "execution_count": 21,
   "outputs": [],
   "source": [
    "gw = create_standard_grid()"
   ],
   "metadata": {
    "collapsed": false
   }
  },
  {
   "cell_type": "code",
   "execution_count": 22,
   "outputs": [],
   "source": [
    "policy = {\n",
    "    (0,0):'up', (0,1):'right',(0,2):'right',(0,3):'up',\n",
    "    (1,0):'up', (1,1):'', (1,2):'right', (1,3):'',\n",
    "    (2,0):'right', (2,1):'right', (2,2):'right', (2,3):''\n",
    "    }"
   ],
   "metadata": {
    "collapsed": false
   }
  },
  {
   "cell_type": "code",
   "execution_count": 23,
   "outputs": [
    {
     "name": "stdout",
     "output_type": "stream",
     "text": [
      "Policy\n",
      "-------------------------------------\n",
      "|  Right |  Right |  Right |        |\n",
      "-------------------------------------\n",
      "|     Up |        |  Right |        |\n",
      "-------------------------------------\n",
      "|     Up |  Right |  Right |     Up |\n",
      "-------------------------------------\n",
      "Initial Values\n",
      "-------------------------------------\n",
      "|   0.00 |   0.00 |   0.00 |   0.00 |\n",
      "-------------------------------------\n",
      "|   0.00 |   0.00 |   0.00 |   0.00 |\n",
      "-------------------------------------\n",
      "|   0.00 |   0.00 |   0.00 |   0.00 |\n",
      "-------------------------------------\n"
     ]
    }
   ],
   "source": [
    "print(\"Policy\")\n",
    "gw.print_policy(policy)\n",
    "print(\"Initial Values\")\n",
    "gw.print_values()"
   ],
   "metadata": {
    "collapsed": false
   }
  },
  {
   "cell_type": "code",
   "execution_count": 24,
   "outputs": [],
   "source": [
    "def iterative_policy_evaluation(gw, policy, gamma=0.9, theta=0.001):\n",
    "\n",
    "    while True:\n",
    "        biggest_change = 0\n",
    "        for node in gw:\n",
    "            state = node.state\n",
    "            if not gw.is_terminal(state) and not gw.is_barrier(state):\n",
    "                # get current (old) value\n",
    "                old_value = gw.get_value(state)\n",
    "                # get action from policy\n",
    "                action = policy[state]\n",
    "                # get immediate reward for action\n",
    "                reward = gw.get_reward_for_action(state, action)\n",
    "                # get value at destination state\n",
    "                value_at_dest = gw.get_value_at_destination(state, action)\n",
    "                # compute new value\n",
    "                new_value = reward + gamma*value_at_dest\n",
    "                # set new value for state\n",
    "                gw.set_value(state, new_value)\n",
    "                # see if |new_value-old_value| is larger than biggest_change\n",
    "                biggest_change = max(\n",
    "                    biggest_change, abs(new_value-old_value))\n",
    "        # iterated over all states, so see if biggest_change is small enough\n",
    "        if biggest_change < theta:\n",
    "            break"
   ],
   "metadata": {
    "collapsed": false
   }
  },
  {
   "cell_type": "code",
   "execution_count": 25,
   "outputs": [
    {
     "name": "stdout",
     "output_type": "stream",
     "text": [
      "Policy\n",
      "-------------------------------------\n",
      "|  Right |  Right |  Right |        |\n",
      "-------------------------------------\n",
      "|     Up |        |  Right |        |\n",
      "-------------------------------------\n",
      "|     Up |  Right |  Right |     Up |\n",
      "-------------------------------------\n",
      "Values for the policy\n",
      "-------------------------------------\n",
      "|   0.81 |   0.90 |   1.00 |   0.00 |\n",
      "-------------------------------------\n",
      "|   0.73 |   0.00 |  -1.00 |   0.00 |\n",
      "-------------------------------------\n",
      "|   0.66 |  -0.81 |  -0.90 |  -1.00 |\n",
      "-------------------------------------\n"
     ]
    }
   ],
   "source": [
    "print(\"Policy\")\n",
    "gw.print_policy(policy)\n",
    "iterative_policy_evaluation(gw, policy, gamma = 0.9)\n",
    "print(\"Values for the policy\")\n",
    "gw.print_values()"
   ],
   "metadata": {
    "collapsed": false
   }
  },
  {
   "cell_type": "markdown",
   "source": [
    "### Policy from Values"
   ],
   "metadata": {
    "collapsed": false
   }
  },
  {
   "cell_type": "code",
   "execution_count": 26,
   "outputs": [],
   "source": [
    "gw = create_standard_grid()"
   ],
   "metadata": {
    "collapsed": false
   }
  },
  {
   "cell_type": "code",
   "execution_count": 27,
   "outputs": [
    {
     "name": "stdout",
     "output_type": "stream",
     "text": [
      "Input Policy\n",
      "-------------------------------------\n",
      "|  Right |  Right |  Right |        |\n",
      "-------------------------------------\n",
      "|     Up |        |  Right |        |\n",
      "-------------------------------------\n",
      "|     Up |  Right |  Right |     Up |\n",
      "-------------------------------------\n"
     ]
    }
   ],
   "source": [
    "policy = {\n",
    "    (0,0):'up', (0,1):'right',(0,2):'right',(0,3):'up',\n",
    "    (1,0):'up', (1,1):'', (1,2):'right', (1,3):'',\n",
    "    (2,0):'right', (2,1):'right', (2,2):'right', (2,3):''\n",
    "    }\n",
    "print(\"Input Policy\")\n",
    "gw.print_policy(policy)"
   ],
   "metadata": {
    "collapsed": false
   }
  },
  {
   "cell_type": "code",
   "execution_count": 28,
   "outputs": [],
   "source": [
    "iterative_policy_evaluation(gw, policy, gamma = 0.9)"
   ],
   "metadata": {
    "collapsed": false
   }
  },
  {
   "cell_type": "code",
   "execution_count": 29,
   "outputs": [
    {
     "name": "stdout",
     "output_type": "stream",
     "text": [
      "Values for the input policy\n",
      "-------------------------------------\n",
      "|   0.81 |   0.90 |   1.00 |   0.00 |\n",
      "-------------------------------------\n",
      "|   0.73 |   0.00 |  -1.00 |   0.00 |\n",
      "-------------------------------------\n",
      "|   0.66 |  -0.81 |  -0.90 |  -1.00 |\n",
      "-------------------------------------\n"
     ]
    }
   ],
   "source": [
    "print(\"Values for the input policy\")\n",
    "gw.print_values()"
   ],
   "metadata": {
    "collapsed": false
   }
  },
  {
   "cell_type": "code",
   "execution_count": 30,
   "outputs": [],
   "source": [
    "def compute_policy_from_values(gw, gamma = 0.9):\n",
    "    # create null policy dictionary\n",
    "    policy = {}\n",
    "    # loop over all states\n",
    "    for i in range(gw.M):\n",
    "        for j in range(gw.N):\n",
    "            state = (i,j)\n",
    "            # assign 'no' policy to barrier states, there are no actions at barrier states\n",
    "            if gw.is_barrier(state):\n",
    "                policy[state] = ''\n",
    "            # assign 'no' policy to terminal sttes, there are no actions at terminal states\n",
    "            if gw.is_terminal(state):\n",
    "                policy[state] = ''\n",
    "            # for all non terminal and non barrier states\n",
    "            if not gw.is_terminal(state) and not gw.is_barrier(state):\n",
    "                # set candidate best action and best value\n",
    "                best_action = None\n",
    "                best_value = float('-inf')\n",
    "                # get dictionary of all valid decisions and rewards at current state (i,j)\n",
    "                dr = gw.valid_decisions_and_rewards(state)\n",
    "                # iterate over all action, reward in\n",
    "                for action, reward in dr.items():\n",
    "                    # get reward for current action\n",
    "                    reward = gw.get_reward_for_action(state,action)\n",
    "                    # get the value of the destination state for the current action\n",
    "                    value_at_dest = gw.get_value_at_destination(state,action)\n",
    "                    # compute candidate vale\n",
    "                    value = reward + gamma*value_at_dest\n",
    "                    # if value is better, then update best action and best value\n",
    "                    if value > best_value:\n",
    "                        best_value = value\n",
    "                        best_action = action\n",
    "                # add best action to the policy dictionary\n",
    "                policy[state] = best_action\n",
    "    return policy"
   ],
   "metadata": {
    "collapsed": false
   }
  },
  {
   "cell_type": "code",
   "execution_count": 31,
   "outputs": [],
   "source": [
    "new_policy = compute_policy_from_values(gw)"
   ],
   "metadata": {
    "collapsed": false
   }
  },
  {
   "cell_type": "code",
   "execution_count": 32,
   "outputs": [
    {
     "name": "stdout",
     "output_type": "stream",
     "text": [
      "Original Policy\n",
      "-------------------------------------\n",
      "|  Right |  Right |  Right |        |\n",
      "-------------------------------------\n",
      "|     Up |        |  Right |        |\n",
      "-------------------------------------\n",
      "|     Up |  Right |  Right |     Up |\n",
      "-------------------------------------\n",
      "\n",
      "New Policy\n",
      "-------------------------------------\n",
      "|  Right |  Right |  Right |        |\n",
      "-------------------------------------\n",
      "|     Up |        |     Up |        |\n",
      "-------------------------------------\n",
      "|     Up |   Left |   Left |   Left |\n",
      "-------------------------------------\n"
     ]
    }
   ],
   "source": [
    "print(\"Original Policy\")\n",
    "gw.print_policy(policy)\n",
    "print(\"\")\n",
    "print(\"New Policy\")\n",
    "gw.print_policy(new_policy)"
   ],
   "metadata": {
    "collapsed": false
   }
  }
 ],
 "metadata": {
  "kernelspec": {
   "display_name": "Python 3",
   "language": "python",
   "name": "python3"
  },
  "language_info": {
   "codemirror_mode": {
    "name": "ipython",
    "version": 2
   },
   "file_extension": ".py",
   "mimetype": "text/x-python",
   "name": "python",
   "nbconvert_exporter": "python",
   "pygments_lexer": "ipython2",
   "version": "2.7.6"
  }
 },
 "nbformat": 4,
 "nbformat_minor": 0
}
