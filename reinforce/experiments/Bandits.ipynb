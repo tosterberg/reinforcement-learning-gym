{
 "cells": [
  {
   "cell_type": "code",
   "execution_count": 14,
   "metadata": {
    "collapsed": true
   },
   "outputs": [
    {
     "name": "stdout",
     "output_type": "stream",
     "text": [
      "Defaulting to user installation because normal site-packages is not writeable\n",
      "Requirement already satisfied: pip in /home/tyler/.local/lib/python3.8/site-packages (23.0.1)\n",
      "Defaulting to user installation because normal site-packages is not writeable\n",
      "Obtaining file:///mnt/c/Users/Tyler/reinforcement-learning-gym\n",
      "  Preparing metadata (setup.py): started\n",
      "  Preparing metadata (setup.py): finished with status 'done'\n",
      "Requirement already satisfied: matplotlib in /home/tyler/.local/lib/python3.8/site-packages (from reinforce==0.0.1) (3.7.1)\n",
      "Requirement already satisfied: numpy in /home/tyler/.local/lib/python3.8/site-packages (from reinforce==0.0.1) (1.22.1)\n",
      "Requirement already satisfied: pymc3 in /home/tyler/.local/lib/python3.8/site-packages (from reinforce==0.0.1) (3.11.5)\n",
      "Requirement already satisfied: scipy in /home/tyler/.local/lib/python3.8/site-packages (from reinforce==0.0.1) (1.7.3)\n",
      "Requirement already satisfied: seaborn in /home/tyler/.local/lib/python3.8/site-packages (from reinforce==0.0.1) (0.12.2)\n",
      "Requirement already satisfied: cycler>=0.10 in /home/tyler/.local/lib/python3.8/site-packages (from matplotlib->reinforce==0.0.1) (0.11.0)\n",
      "Requirement already satisfied: pillow>=6.2.0 in /home/tyler/.local/lib/python3.8/site-packages (from matplotlib->reinforce==0.0.1) (9.2.0)\n",
      "Requirement already satisfied: contourpy>=1.0.1 in /home/tyler/.local/lib/python3.8/site-packages (from matplotlib->reinforce==0.0.1) (1.0.7)\n",
      "Requirement already satisfied: importlib-resources>=3.2.0 in /home/tyler/.local/lib/python3.8/site-packages (from matplotlib->reinforce==0.0.1) (5.12.0)\n",
      "Requirement already satisfied: packaging>=20.0 in /home/tyler/.local/lib/python3.8/site-packages (from matplotlib->reinforce==0.0.1) (21.3)\n",
      "Requirement already satisfied: python-dateutil>=2.7 in /home/tyler/.local/lib/python3.8/site-packages (from matplotlib->reinforce==0.0.1) (2.8.2)\n",
      "Requirement already satisfied: pyparsing>=2.3.1 in /home/tyler/.local/lib/python3.8/site-packages (from matplotlib->reinforce==0.0.1) (3.0.9)\n",
      "Requirement already satisfied: kiwisolver>=1.0.1 in /home/tyler/.local/lib/python3.8/site-packages (from matplotlib->reinforce==0.0.1) (1.4.4)\n",
      "Requirement already satisfied: fonttools>=4.22.0 in /home/tyler/.local/lib/python3.8/site-packages (from matplotlib->reinforce==0.0.1) (4.39.0)\n",
      "Requirement already satisfied: fastprogress>=0.2.0 in /home/tyler/.local/lib/python3.8/site-packages (from pymc3->reinforce==0.0.1) (1.0.3)\n",
      "Requirement already satisfied: cachetools>=4.2.1 in /home/tyler/.local/lib/python3.8/site-packages (from pymc3->reinforce==0.0.1) (5.3.0)\n",
      "Requirement already satisfied: typing-extensions>=3.7.4 in /home/tyler/.local/lib/python3.8/site-packages (from pymc3->reinforce==0.0.1) (4.4.0)\n",
      "Requirement already satisfied: semver>=2.13.0 in /home/tyler/.local/lib/python3.8/site-packages (from pymc3->reinforce==0.0.1) (2.13.0)\n",
      "Requirement already satisfied: dill in /home/tyler/.local/lib/python3.8/site-packages (from pymc3->reinforce==0.0.1) (0.3.6)\n",
      "Requirement already satisfied: theano-pymc==1.1.2 in /home/tyler/.local/lib/python3.8/site-packages (from pymc3->reinforce==0.0.1) (1.1.2)\n",
      "Requirement already satisfied: pandas>=0.24.0 in /home/tyler/.local/lib/python3.8/site-packages (from pymc3->reinforce==0.0.1) (1.5.3)\n",
      "Requirement already satisfied: arviz>=0.11.0 in /home/tyler/.local/lib/python3.8/site-packages (from pymc3->reinforce==0.0.1) (0.12.1)\n",
      "Requirement already satisfied: deprecat in /home/tyler/.local/lib/python3.8/site-packages (from pymc3->reinforce==0.0.1) (2.1.1)\n",
      "Requirement already satisfied: patsy>=0.5.1 in /home/tyler/.local/lib/python3.8/site-packages (from pymc3->reinforce==0.0.1) (0.5.3)\n",
      "Requirement already satisfied: filelock in /home/tyler/.local/lib/python3.8/site-packages (from theano-pymc==1.1.2->pymc3->reinforce==0.0.1) (3.8.0)\n",
      "Requirement already satisfied: netcdf4 in /home/tyler/.local/lib/python3.8/site-packages (from arviz>=0.11.0->pymc3->reinforce==0.0.1) (1.6.3)\n",
      "Requirement already satisfied: xarray>=0.16.1 in /home/tyler/.local/lib/python3.8/site-packages (from arviz>=0.11.0->pymc3->reinforce==0.0.1) (2023.1.0)\n",
      "Requirement already satisfied: xarray-einstats>=0.2 in /home/tyler/.local/lib/python3.8/site-packages (from arviz>=0.11.0->pymc3->reinforce==0.0.1) (0.5.1)\n",
      "Requirement already satisfied: setuptools>=38.4 in /usr/lib/python3/dist-packages (from arviz>=0.11.0->pymc3->reinforce==0.0.1) (45.2.0)\n",
      "Requirement already satisfied: zipp>=3.1.0 in /home/tyler/.local/lib/python3.8/site-packages (from importlib-resources>=3.2.0->matplotlib->reinforce==0.0.1) (3.15.0)\n",
      "Requirement already satisfied: pytz>=2020.1 in /home/tyler/.local/lib/python3.8/site-packages (from pandas>=0.24.0->pymc3->reinforce==0.0.1) (2022.7.1)\n",
      "Requirement already satisfied: six in /usr/lib/python3/dist-packages (from patsy>=0.5.1->pymc3->reinforce==0.0.1) (1.14.0)\n",
      "Requirement already satisfied: wrapt<2,>=1.10 in /home/tyler/.local/lib/python3.8/site-packages (from deprecat->pymc3->reinforce==0.0.1) (1.15.0)\n",
      "Requirement already satisfied: cftime in /home/tyler/.local/lib/python3.8/site-packages (from netcdf4->arviz>=0.11.0->pymc3->reinforce==0.0.1) (1.6.2)\n",
      "Installing collected packages: reinforce\n",
      "  Attempting uninstall: reinforce\n",
      "    Found existing installation: reinforce 0.0.1\n",
      "    Uninstalling reinforce-0.0.1:\n",
      "      Successfully uninstalled reinforce-0.0.1\n",
      "  Running setup.py develop for reinforce\n",
      "Successfully installed reinforce\n"
     ]
    }
   ],
   "source": [
    "%%bash\n",
    "cd ../..\n",
    "pip install -U pip\n",
    "pip install -e ."
   ]
  },
  {
   "cell_type": "markdown",
   "source": [
    "# Single and Multi-Armed Bandits Lab"
   ],
   "metadata": {
    "collapsed": false
   }
  },
  {
   "cell_type": "markdown",
   "source": [],
   "metadata": {
    "collapsed": false
   }
  },
  {
   "cell_type": "code",
   "execution_count": 15,
   "outputs": [
    {
     "ename": "ImportError",
     "evalue": "cannot import name 'RandomPolicy' from 'reinforce.policies.policy' (C:\\Users\\Tyler\\reinforcement-learning-gym\\reinforce\\policies\\policy.py)",
     "output_type": "error",
     "traceback": [
      "\u001B[1;31m---------------------------------------------------------------------------\u001B[0m",
      "\u001B[1;31mImportError\u001B[0m                               Traceback (most recent call last)",
      "Input \u001B[1;32mIn [15]\u001B[0m, in \u001B[0;36m<cell line: 3>\u001B[1;34m()\u001B[0m\n\u001B[0;32m      1\u001B[0m \u001B[38;5;28;01mfrom\u001B[39;00m \u001B[38;5;21;01mreinforce\u001B[39;00m\u001B[38;5;21;01m.\u001B[39;00m\u001B[38;5;21;01mscenarios\u001B[39;00m\u001B[38;5;21;01m.\u001B[39;00m\u001B[38;5;21;01mbandit\u001B[39;00m \u001B[38;5;28;01mimport\u001B[39;00m Bandit\n\u001B[0;32m      2\u001B[0m \u001B[38;5;28;01mfrom\u001B[39;00m \u001B[38;5;21;01mreinforce\u001B[39;00m\u001B[38;5;21;01m.\u001B[39;00m\u001B[38;5;21;01magents\u001B[39;00m\u001B[38;5;21;01m.\u001B[39;00m\u001B[38;5;21;01magent\u001B[39;00m \u001B[38;5;28;01mimport\u001B[39;00m Agent\n\u001B[1;32m----> 3\u001B[0m \u001B[38;5;28;01mfrom\u001B[39;00m \u001B[38;5;21;01mreinforce\u001B[39;00m\u001B[38;5;21;01m.\u001B[39;00m\u001B[38;5;21;01mpolicies\u001B[39;00m\u001B[38;5;21;01m.\u001B[39;00m\u001B[38;5;21;01mpolicy\u001B[39;00m \u001B[38;5;28;01mimport\u001B[39;00m GreedyPolicy, EpsilonGreedyPolicy, RandomPolicy\n\u001B[0;32m      4\u001B[0m \u001B[38;5;28;01mfrom\u001B[39;00m \u001B[38;5;21;01mreinforce\u001B[39;00m\u001B[38;5;21;01m.\u001B[39;00m\u001B[38;5;21;01menvironments\u001B[39;00m\u001B[38;5;21;01m.\u001B[39;00m\u001B[38;5;21;01menvironment\u001B[39;00m \u001B[38;5;28;01mimport\u001B[39;00m Environment\n\u001B[0;32m      5\u001B[0m \u001B[38;5;28;01mfrom\u001B[39;00m \u001B[38;5;21;01mreinforce\u001B[39;00m\u001B[38;5;21;01m.\u001B[39;00m\u001B[38;5;21;01mutils\u001B[39;00m\u001B[38;5;21;01m.\u001B[39;00m\u001B[38;5;21;01mutils\u001B[39;00m \u001B[38;5;28;01mimport\u001B[39;00m plot_env_result\n",
      "\u001B[1;31mImportError\u001B[0m: cannot import name 'RandomPolicy' from 'reinforce.policies.policy' (C:\\Users\\Tyler\\reinforcement-learning-gym\\reinforce\\policies\\policy.py)"
     ]
    }
   ],
   "source": [
    "from reinforce.scenarios.bandit import Bandit\n",
    "from reinforce.agents.agent import Agent\n",
    "from reinforce.policies.policy import GreedyPolicy, EpsilonGreedyPolicy, RandomPolicy\n",
    "from reinforce.environments.environment import Environment\n",
    "from reinforce.utils.utils import plot_env_result"
   ],
   "metadata": {
    "collapsed": false
   }
  },
  {
   "cell_type": "code",
   "execution_count": null,
   "outputs": [],
   "source": [
    "k_arms = 10\n",
    "steps = 2000\n",
    "runs = 100\n",
    "\n",
    "scenario = Bandit(arms=k_arms, mean=0, std=1)\n",
    "results = []\n",
    "\n",
    "# Test epsilon-greedy\n",
    "eps = [0.01, 0.1, 0.2]\n",
    "for epsilon in eps:\n",
    "    agent = Agent(num_actions=k_arms, policy=EpsilonGreedyPolicy(epsilon=epsilon))\n",
    "    environment = Environment(scenario=scenario, agent=agent, steps=steps, iterations=runs)\n",
    "    environment.summarize_test()\n",
    "    results.append(environment.results)"
   ],
   "metadata": {
    "collapsed": false
   }
  },
  {
   "cell_type": "code",
   "execution_count": null,
   "outputs": [],
   "source": [
    "plot_env_result(results)"
   ],
   "metadata": {
    "collapsed": false
   }
  }
 ],
 "metadata": {
  "kernelspec": {
   "display_name": "Python 3",
   "language": "python",
   "name": "python3"
  },
  "language_info": {
   "codemirror_mode": {
    "name": "ipython",
    "version": 2
   },
   "file_extension": ".py",
   "mimetype": "text/x-python",
   "name": "python",
   "nbconvert_exporter": "python",
   "pygments_lexer": "ipython2",
   "version": "2.7.6"
  }
 },
 "nbformat": 4,
 "nbformat_minor": 0
}
